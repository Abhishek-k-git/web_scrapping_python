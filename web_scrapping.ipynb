{
 "cells": [
  {
   "cell_type": "code",
   "execution_count": 1,
   "metadata": {},
   "outputs": [],
   "source": [
    "#pip install requests\n",
    "#pip install BeautifulSoup4"
   ]
  },
  {
   "cell_type": "code",
   "execution_count": 2,
   "metadata": {},
   "outputs": [],
   "source": [
    "import requests\n",
    "from bs4 import BeautifulSoup\n",
    "import time\n",
    "import warnings\n",
    "warnings.filterwarnings('ignore')"
   ]
  },
  {
   "cell_type": "code",
   "execution_count": 3,
   "metadata": {},
   "outputs": [],
   "source": [
    "url = 'https://www.amazon.in/Apple-Quad-core-10th-Generation-Intel-Core-i5-Processor/dp/B0864HQK2F/ref=sr_1_4?crid=2Q90LCYBXCR7J&dchild=1&keywords=macbook+air&qid=1609995134&sprefix=mac%2Caps%2C395&sr=8-4'\n",
    "\n",
    "headers = {\n",
    "    'User-Agent': 'Mozilla/5.0 (Windows NT 10.0; Win64; x64) AppleWebKit/537.36 (KHTML, like Gecko) Chrome/87.0.4280.88 Safari/537.36 OPR/73.0.3856.284'\n",
    "}\n",
    "\n",
    "page = requests.get(url, headers= headers)"
   ]
  },
  {
   "cell_type": "code",
   "execution_count": 4,
   "metadata": {},
   "outputs": [],
   "source": [
    "soup = BeautifulSoup(page.content, 'html.parser')"
   ]
  },
  {
   "cell_type": "code",
   "execution_count": 5,
   "metadata": {},
   "outputs": [],
   "source": [
    "# Product Description\n",
    "product_description = soup.find(id='productTitle').get_text()"
   ]
  },
  {
   "cell_type": "code",
   "execution_count": 6,
   "metadata": {},
   "outputs": [],
   "source": [
    "# Price\n",
    "price_tag = soup.find(id='priceblock_ourprice').get_text()\n",
    "price_str = price_tag[1:-3]\n",
    "price = float(price_str.replace(',', ''))"
   ]
  },
  {
   "cell_type": "code",
   "execution_count": 7,
   "metadata": {},
   "outputs": [],
   "source": [
    "# Delivery Charge\n",
    "delivery_info = soup.find(id='price-shipping-message')\n",
    "delivery_charge = delivery_info.find('b').get_text()"
   ]
  },
  {
   "cell_type": "code",
   "execution_count": 8,
   "metadata": {},
   "outputs": [
    {
     "name": "stdout",
     "output_type": "stream",
     "text": [
      "My Product :  \n",
      "\n",
      "\n",
      "\n",
      "\n",
      "\n",
      "\n",
      "\n",
      "New Apple MacBook Air (13-inch, 1.1GHz Quad-core 10th-Generation Intel Core i5 Processor, 8GB RAM, 512GB Storage) - Gold\n",
      "\n",
      "\n",
      "\n",
      "\n",
      "\n",
      "\n",
      "\n",
      "Price : Rs:  1,18,990\n",
      "FREE Delivery\n"
     ]
    }
   ],
   "source": [
    "# Print All Descriptions\n",
    "print(\"My Product : \", product_description)\n",
    "print(\"Price : Rs:\", price_str)\n",
    "print(delivery_charge)"
   ]
  },
  {
   "cell_type": "code",
   "execution_count": null,
   "metadata": {},
   "outputs": [],
   "source": [
    "#Send me an Email notification when Price Drops\n",
    "\n",
    "# Check Price\n",
    "def check_price_drop:\n",
    "    if(price < 118990):\n",
    "    send_mail()\n",
    "\n",
    "# Define send_mail function\n",
    "def send_mail:\n",
    "    sender_mail = ''\n",
    "    receiver_mail = ''\n",
    "    sender_mail_pass = ''\n",
    "    subject = 'Amazon Product Alert'\n",
    "    body = print(\"This is to notify you that it's time to buy {} which is now at price of Rs{} with {}\".format(product_description, price, delivery_charge))\n",
    "    msg = f\"Subject: {subject} \\n Body: {body}\"\n",
    "    \n",
    "    server = smtplib.SMTP('smtp.gmail.com', 587)\n",
    "    server.ehlo()\n",
    "    server.starttls()\n",
    "    server.ehlo()\n",
    "    \n",
    "    server.login(sender_mail, sender_mail_pass)\n",
    "    \n",
    "    server.sendmail(sender_mail, receiver_mail, msg)\n",
    "    \n",
    "    server.quit()\n",
    " \n",
    "# Final call\n",
    "while(True):\n",
    "    check_price_drop()\n",
    "    time.sleep(60*60*24)"
   ]
  }
 ],
 "metadata": {
  "kernelspec": {
   "display_name": "Python 3",
   "language": "python",
   "name": "python3"
  },
  "language_info": {
   "codemirror_mode": {
    "name": "ipython",
    "version": 3
   },
   "file_extension": ".py",
   "mimetype": "text/x-python",
   "name": "python",
   "nbconvert_exporter": "python",
   "pygments_lexer": "ipython3",
   "version": "3.8.5"
  }
 },
 "nbformat": 4,
 "nbformat_minor": 4
}
